{
 "cells": [
  {
   "cell_type": "code",
   "execution_count": 1,
   "metadata": {},
   "outputs": [],
   "source": [
    "import duckdb\n",
    "import pandas as pd\n",
    "# No need to import duckdb_engine\n",
    "#  jupysql will auto-detect the driver needed based on the connection string!\n",
    "\n",
    "# Import jupysql Jupyter extension to create SQL cells\n",
    "output_df = None"
   ]
  },
  {
   "cell_type": "code",
   "execution_count": 2,
   "metadata": {},
   "outputs": [],
   "source": [
    "%load_ext sql"
   ]
  },
  {
   "cell_type": "code",
   "execution_count": 3,
   "metadata": {},
   "outputs": [
    {
     "data": {
      "text/html": [
       "<span style=\"None\">Connecting to &#x27;duckdb:///:memory:&#x27;</span>"
      ],
      "text/plain": [
       "Connecting to 'duckdb:///:memory:'"
      ]
     },
     "metadata": {},
     "output_type": "display_data"
    }
   ],
   "source": [
    "%sql duckdb:///:memory:"
   ]
  },
  {
   "cell_type": "code",
   "execution_count": 4,
   "metadata": {},
   "outputs": [
    {
     "data": {
      "text/html": [
       "<span style=\"None\">Running query in &#x27;duckdb:///:memory:&#x27;</span>"
      ],
      "text/plain": [
       "Running query in 'duckdb:///:memory:'"
      ]
     },
     "metadata": {},
     "output_type": "display_data"
    },
    {
     "data": {
      "text/html": [
       "<table>\n",
       "    <thead>\n",
       "        <tr>\n",
       "            <th>a_duckdb_column</th>\n",
       "        </tr>\n",
       "    </thead>\n",
       "    <tbody>\n",
       "        <tr>\n",
       "            <td>Off and flying!</td>\n",
       "        </tr>\n",
       "    </tbody>\n",
       "</table>"
      ],
      "text/plain": [
       "+-----------------+\n",
       "| a_duckdb_column |\n",
       "+-----------------+\n",
       "| Off and flying! |\n",
       "+-----------------+"
      ]
     },
     "execution_count": 4,
     "metadata": {},
     "output_type": "execute_result"
    }
   ],
   "source": [
    "%sql SELECT 'Off and flying!' AS a_duckdb_column"
   ]
  },
  {
   "cell_type": "code",
   "execution_count": 5,
   "metadata": {},
   "outputs": [
    {
     "name": "stdout",
     "output_type": "stream",
     "text": [
      "The sql extension is already loaded. To reload it, use:\n",
      "  %reload_ext sql\n"
     ]
    }
   ],
   "source": [
    "%load_ext sql\n",
    "conn = duckdb.connect()\n",
    "%sql conn --alias duckdb"
   ]
  },
  {
   "cell_type": "markdown",
   "metadata": {},
   "source": [
    "```sql\n",
    "SELECT\n",
    "    schema_name,\n",
    "    function_name\n",
    "FROM duckdb_functions()\n",
    "ORDER BY ALL DESC\n",
    "LIMIT 500;\n",
    "```"
   ]
  },
  {
   "cell_type": "code",
   "execution_count": 6,
   "metadata": {},
   "outputs": [
    {
     "data": {
      "text/html": [
       "<span style=\"None\">Running query in &#x27;duckdb&#x27;</span>"
      ],
      "text/plain": [
       "Running query in 'duckdb'"
      ]
     },
     "metadata": {},
     "output_type": "display_data"
    },
    {
     "data": {
      "text/html": [
       "<table>\n",
       "    <thead>\n",
       "        <tr>\n",
       "            <th>schema_name</th>\n",
       "            <th>function_name</th>\n",
       "        </tr>\n",
       "    </thead>\n",
       "    <tbody>\n",
       "        <tr>\n",
       "            <td>pg_catalog</td>\n",
       "            <td>shobj_description</td>\n",
       "        </tr>\n",
       "        <tr>\n",
       "            <td>pg_catalog</td>\n",
       "            <td>shobj_description</td>\n",
       "        </tr>\n",
       "        <tr>\n",
       "            <td>pg_catalog</td>\n",
       "            <td>shobj_description</td>\n",
       "        </tr>\n",
       "        <tr>\n",
       "            <td>pg_catalog</td>\n",
       "            <td>pg_typeof</td>\n",
       "        </tr>\n",
       "        <tr>\n",
       "            <td>pg_catalog</td>\n",
       "            <td>pg_typeof</td>\n",
       "        </tr>\n",
       "        <tr>\n",
       "            <td>pg_catalog</td>\n",
       "            <td>pg_typeof</td>\n",
       "        </tr>\n",
       "        <tr>\n",
       "            <td>pg_catalog</td>\n",
       "            <td>pg_type_is_visible</td>\n",
       "        </tr>\n",
       "        <tr>\n",
       "            <td>pg_catalog</td>\n",
       "            <td>pg_type_is_visible</td>\n",
       "        </tr>\n",
       "        <tr>\n",
       "            <td>pg_catalog</td>\n",
       "            <td>pg_type_is_visible</td>\n",
       "        </tr>\n",
       "        <tr>\n",
       "            <td>pg_catalog</td>\n",
       "            <td>pg_ts_template_is_visible</td>\n",
       "        </tr>\n",
       "    </tbody>\n",
       "</table>\n",
       "<span style=\"font-style:italic;text-align:center;\">Truncated to <a href=\"https://jupysql.ploomber.io/en/latest/api/configuration.html#displaylimit\">displaylimit</a> of 10.</span>"
      ],
      "text/plain": [
       "+-------------+---------------------------+\n",
       "| schema_name |       function_name       |\n",
       "+-------------+---------------------------+\n",
       "|  pg_catalog |     shobj_description     |\n",
       "|  pg_catalog |     shobj_description     |\n",
       "|  pg_catalog |     shobj_description     |\n",
       "|  pg_catalog |         pg_typeof         |\n",
       "|  pg_catalog |         pg_typeof         |\n",
       "|  pg_catalog |         pg_typeof         |\n",
       "|  pg_catalog |     pg_type_is_visible    |\n",
       "|  pg_catalog |     pg_type_is_visible    |\n",
       "|  pg_catalog |     pg_type_is_visible    |\n",
       "|  pg_catalog | pg_ts_template_is_visible |\n",
       "+-------------+---------------------------+\n",
       "Truncated to displaylimit of 10."
      ]
     },
     "execution_count": 6,
     "metadata": {},
     "output_type": "execute_result"
    }
   ],
   "source": [
    "%%sql\n",
    "SELECT\n",
    "    schema_name,\n",
    "    function_name\n",
    "FROM duckdb_functions()\n",
    "ORDER BY ALL DESC\n",
    "LIMIT 500;"
   ]
  },
  {
   "cell_type": "code",
   "execution_count": 7,
   "metadata": {},
   "outputs": [],
   "source": [
    "input_df = pd.DataFrame.from_dict({\"i\": [1, 2, 3], \"j\": [\"one\", \"two\", \"three\"]})"
   ]
  },
  {
   "cell_type": "code",
   "execution_count": 8,
   "metadata": {},
   "outputs": [
    {
     "data": {
      "text/html": [
       "<span style=\"None\">Running query in &#x27;duckdb&#x27;</span>"
      ],
      "text/plain": [
       "Running query in 'duckdb'"
      ]
     },
     "metadata": {},
     "output_type": "display_data"
    }
   ],
   "source": [
    "%sql output_df << SELECT sum(i) AS total_i FROM input_df"
   ]
  },
  {
   "cell_type": "code",
   "execution_count": 9,
   "metadata": {},
   "outputs": [
    {
     "data": {
      "text/html": [
       "<table>\n",
       "    <thead>\n",
       "        <tr>\n",
       "            <th>total_i</th>\n",
       "        </tr>\n",
       "    </thead>\n",
       "    <tbody>\n",
       "        <tr>\n",
       "            <td>6</td>\n",
       "        </tr>\n",
       "    </tbody>\n",
       "</table>"
      ],
      "text/plain": [
       "+---------+\n",
       "| total_i |\n",
       "+---------+\n",
       "|    6    |\n",
       "+---------+"
      ]
     },
     "execution_count": 9,
     "metadata": {},
     "output_type": "execute_result"
    }
   ],
   "source": [
    "output_df"
   ]
  },
  {
   "cell_type": "code",
   "execution_count": 10,
   "metadata": {},
   "outputs": [
    {
     "data": {
      "text/html": [
       "<span style=\"None\">Running query in &#x27;duckdb&#x27;</span>"
      ],
      "text/plain": [
       "Running query in 'duckdb'"
      ]
     },
     "metadata": {},
     "output_type": "display_data"
    },
    {
     "data": {
      "text/html": [
       "<table>\n",
       "    <thead>\n",
       "        <tr>\n",
       "            <th>Success</th>\n",
       "        </tr>\n",
       "    </thead>\n",
       "    <tbody>\n",
       "    </tbody>\n",
       "</table>"
      ],
      "text/plain": [
       "+---------+\n",
       "| Success |\n",
       "+---------+\n",
       "+---------+"
      ]
     },
     "execution_count": 10,
     "metadata": {},
     "output_type": "execute_result"
    }
   ],
   "source": [
    "%%sql\n",
    "INSTALL httpfs;\n",
    "LOAD httpfs;"
   ]
  },
  {
   "cell_type": "code",
   "execution_count": 11,
   "metadata": {},
   "outputs": [
    {
     "data": {
      "text/plain": [
       "<Axes: title={'center': \"'trip_distance' from 'trip-data/yellow_tripdata_2021-01.parquet'\"}, ylabel='trip_distance'>"
      ]
     },
     "execution_count": 11,
     "metadata": {},
     "output_type": "execute_result"
    },
    {
     "data": {
      "image/png": "[encoded data removed]",
      "text/plain": [
       "<Figure size 640x480 with 1 Axes>"
      ]
     },
     "metadata": {},
     "output_type": "display_data"
    }
   ],
   "source": [
    "%sqlplot boxplot --table trip-data/yellow_tripdata_2021-01.parquet --column trip_distance"
   ]
  },
  {
   "cell_type": "code",
   "execution_count": 12,
   "metadata": {},
   "outputs": [
    {
     "ename": "CatalogException",
     "evalue": "Catalog Error: Table with name com/nergir/one/raw/refs/heads/main/trip-data/yellow_tripdata_2021-01 does not exist!\nDid you mean \"information_schema.referential_constraints\"?\nLINE 6:     FROM \"https://github\".\"com/nergir/one/raw/refs/heads/main/trip-data/yellow_tripdata_2021-01\"...\n                 ^",
     "output_type": "error",
     "traceback": [
      "\u001b[1;31m---------------------------------------------------------------------------\u001b[0m",
      "\u001b[1;31mCatalogException\u001b[0m                          Traceback (most recent call last)",
      "Cell \u001b[1;32mIn[12], line 1\u001b[0m\n\u001b[1;32m----> 1\u001b[0m \u001b[43mget_ipython\u001b[49m\u001b[43m(\u001b[49m\u001b[43m)\u001b[49m\u001b[38;5;241;43m.\u001b[39;49m\u001b[43mrun_line_magic\u001b[49m\u001b[43m(\u001b[49m\u001b[38;5;124;43m'\u001b[39;49m\u001b[38;5;124;43msqlplot\u001b[39;49m\u001b[38;5;124;43m'\u001b[39;49m\u001b[43m,\u001b[49m\u001b[43m \u001b[49m\u001b[38;5;124;43m'\u001b[39;49m\u001b[38;5;124;43mboxplot --table https://github.com/nergir/one/raw/refs/heads/main/trip-data/yellow_tripdata_2021-01.parquet --column trip_distance\u001b[39;49m\u001b[38;5;124;43m'\u001b[39;49m\u001b[43m)\u001b[49m\n",
      "File \u001b[1;32mc:\\ftp\\duck\\env\\Lib\\site-packages\\IPython\\core\\interactiveshell.py:2480\u001b[0m, in \u001b[0;36mInteractiveShell.run_line_magic\u001b[1;34m(self, magic_name, line, _stack_depth)\u001b[0m\n\u001b[0;32m   2478\u001b[0m     kwargs[\u001b[38;5;124m'\u001b[39m\u001b[38;5;124mlocal_ns\u001b[39m\u001b[38;5;124m'\u001b[39m] \u001b[38;5;241m=\u001b[39m \u001b[38;5;28mself\u001b[39m\u001b[38;5;241m.\u001b[39mget_local_scope(stack_depth)\n\u001b[0;32m   2479\u001b[0m \u001b[38;5;28;01mwith\u001b[39;00m \u001b[38;5;28mself\u001b[39m\u001b[38;5;241m.\u001b[39mbuiltin_trap:\n\u001b[1;32m-> 2480\u001b[0m     result \u001b[38;5;241m=\u001b[39m \u001b[43mfn\u001b[49m\u001b[43m(\u001b[49m\u001b[38;5;241;43m*\u001b[39;49m\u001b[43margs\u001b[49m\u001b[43m,\u001b[49m\u001b[43m \u001b[49m\u001b[38;5;241;43m*\u001b[39;49m\u001b[38;5;241;43m*\u001b[39;49m\u001b[43mkwargs\u001b[49m\u001b[43m)\u001b[49m\n\u001b[0;32m   2482\u001b[0m \u001b[38;5;66;03m# The code below prevents the output from being displayed\u001b[39;00m\n\u001b[0;32m   2483\u001b[0m \u001b[38;5;66;03m# when using magics with decorator @output_can_be_silenced\u001b[39;00m\n\u001b[0;32m   2484\u001b[0m \u001b[38;5;66;03m# when the last Python token in the expression is a ';'.\u001b[39;00m\n\u001b[0;32m   2485\u001b[0m \u001b[38;5;28;01mif\u001b[39;00m \u001b[38;5;28mgetattr\u001b[39m(fn, magic\u001b[38;5;241m.\u001b[39mMAGIC_OUTPUT_CAN_BE_SILENCED, \u001b[38;5;28;01mFalse\u001b[39;00m):\n",
      "File \u001b[1;32mc:\\ftp\\duck\\env\\Lib\\site-packages\\ploomber_core\\exceptions.py:128\u001b[0m, in \u001b[0;36mmodify_exceptions.<locals>.wrapper\u001b[1;34m(*args, **kwargs)\u001b[0m\n\u001b[0;32m    125\u001b[0m \u001b[38;5;129m@wraps\u001b[39m(fn)\n\u001b[0;32m    126\u001b[0m \u001b[38;5;28;01mdef\u001b[39;00m \u001b[38;5;21mwrapper\u001b[39m(\u001b[38;5;241m*\u001b[39margs, \u001b[38;5;241m*\u001b[39m\u001b[38;5;241m*\u001b[39mkwargs):\n\u001b[0;32m    127\u001b[0m     \u001b[38;5;28;01mtry\u001b[39;00m:\n\u001b[1;32m--> 128\u001b[0m         \u001b[38;5;28;01mreturn\u001b[39;00m \u001b[43mfn\u001b[49m\u001b[43m(\u001b[49m\u001b[38;5;241;43m*\u001b[39;49m\u001b[43margs\u001b[49m\u001b[43m,\u001b[49m\u001b[43m \u001b[49m\u001b[38;5;241;43m*\u001b[39;49m\u001b[38;5;241;43m*\u001b[39;49m\u001b[43mkwargs\u001b[49m\u001b[43m)\u001b[49m\n\u001b[0;32m    129\u001b[0m     \u001b[38;5;28;01mexcept\u001b[39;00m (\u001b[38;5;167;01mValueError\u001b[39;00m, \u001b[38;5;167;01mTypeError\u001b[39;00m) \u001b[38;5;28;01mas\u001b[39;00m e:\n\u001b[0;32m    130\u001b[0m         _add_community_link(e)\n",
      "File \u001b[1;32mc:\\ftp\\duck\\env\\Lib\\site-packages\\sql\\magic_plot.py:107\u001b[0m, in \u001b[0;36mSqlPlotMagic.execute\u001b[1;34m(self, line, cell, local_ns)\u001b[0m\n\u001b[0;32m    104\u001b[0m     with_ \u001b[38;5;241m=\u001b[39m \u001b[38;5;28mself\u001b[39m\u001b[38;5;241m.\u001b[39m_check_table_exists(table, schema)\n\u001b[0;32m    106\u001b[0m \u001b[38;5;28;01mif\u001b[39;00m cmd\u001b[38;5;241m.\u001b[39margs\u001b[38;5;241m.\u001b[39mplot_name \u001b[38;5;129;01min\u001b[39;00m {\u001b[38;5;124m\"\u001b[39m\u001b[38;5;124mbox\u001b[39m\u001b[38;5;124m\"\u001b[39m, \u001b[38;5;124m\"\u001b[39m\u001b[38;5;124mboxplot\u001b[39m\u001b[38;5;124m\"\u001b[39m}:\n\u001b[1;32m--> 107\u001b[0m     \u001b[38;5;28;01mreturn\u001b[39;00m \u001b[43mplot\u001b[49m\u001b[38;5;241;43m.\u001b[39;49m\u001b[43mboxplot\u001b[49m\u001b[43m(\u001b[49m\n\u001b[0;32m    108\u001b[0m \u001b[43m        \u001b[49m\u001b[43mtable\u001b[49m\u001b[38;5;241;43m=\u001b[39;49m\u001b[43mtable\u001b[49m\u001b[43m,\u001b[49m\n\u001b[0;32m    109\u001b[0m \u001b[43m        \u001b[49m\u001b[43mcolumn\u001b[49m\u001b[38;5;241;43m=\u001b[39;49m\u001b[43mcolumn\u001b[49m\u001b[43m,\u001b[49m\n\u001b[0;32m    110\u001b[0m \u001b[43m        \u001b[49m\u001b[43mwith_\u001b[49m\u001b[38;5;241;43m=\u001b[39;49m\u001b[43mwith_\u001b[49m\u001b[43m,\u001b[49m\n\u001b[0;32m    111\u001b[0m \u001b[43m        \u001b[49m\u001b[43morient\u001b[49m\u001b[38;5;241;43m=\u001b[39;49m\u001b[43mcmd\u001b[49m\u001b[38;5;241;43m.\u001b[39;49m\u001b[43margs\u001b[49m\u001b[38;5;241;43m.\u001b[39;49m\u001b[43morient\u001b[49m\u001b[43m,\u001b[49m\n\u001b[0;32m    112\u001b[0m \u001b[43m        \u001b[49m\u001b[43mconn\u001b[49m\u001b[38;5;241;43m=\u001b[39;49m\u001b[38;5;28;43;01mNone\u001b[39;49;00m\u001b[43m,\u001b[49m\n\u001b[0;32m    113\u001b[0m \u001b[43m        \u001b[49m\u001b[43mschema\u001b[49m\u001b[38;5;241;43m=\u001b[39;49m\u001b[43mschema\u001b[49m\u001b[43m,\u001b[49m\n\u001b[0;32m    114\u001b[0m \u001b[43m    \u001b[49m\u001b[43m)\u001b[49m\n\u001b[0;32m    115\u001b[0m \u001b[38;5;28;01melif\u001b[39;00m cmd\u001b[38;5;241m.\u001b[39margs\u001b[38;5;241m.\u001b[39mplot_name \u001b[38;5;129;01min\u001b[39;00m {\u001b[38;5;124m\"\u001b[39m\u001b[38;5;124mhist\u001b[39m\u001b[38;5;124m\"\u001b[39m, \u001b[38;5;124m\"\u001b[39m\u001b[38;5;124mhistogram\u001b[39m\u001b[38;5;124m\"\u001b[39m}:\n\u001b[0;32m    116\u001b[0m     \u001b[38;5;66;03m# to avoid passing bins default value when breaks or binwidth is specified\u001b[39;00m\n\u001b[0;32m    117\u001b[0m     bin_specified \u001b[38;5;241m=\u001b[39m \u001b[38;5;124m\"\u001b[39m\u001b[38;5;124m --bins \u001b[39m\u001b[38;5;124m\"\u001b[39m \u001b[38;5;129;01min\u001b[39;00m line \u001b[38;5;129;01mor\u001b[39;00m \u001b[38;5;124m\"\u001b[39m\u001b[38;5;124m -b \u001b[39m\u001b[38;5;124m\"\u001b[39m \u001b[38;5;129;01min\u001b[39;00m line\n",
      "File \u001b[1;32mc:\\ftp\\duck\\env\\Lib\\site-packages\\ploomber_core\\dependencies.py:40\u001b[0m, in \u001b[0;36mrequires.<locals>.decorator.<locals>.wrapper\u001b[1;34m(*args, **kwargs)\u001b[0m\n\u001b[0;32m     32\u001b[0m \u001b[38;5;129m@wraps\u001b[39m(f)\n\u001b[0;32m     33\u001b[0m \u001b[38;5;28;01mdef\u001b[39;00m \u001b[38;5;21mwrapper\u001b[39m(\u001b[38;5;241m*\u001b[39margs, \u001b[38;5;241m*\u001b[39m\u001b[38;5;241m*\u001b[39mkwargs):\n\u001b[0;32m     34\u001b[0m     check_installed(\n\u001b[0;32m     35\u001b[0m         pkgs\u001b[38;5;241m=\u001b[39mpkgs,\n\u001b[0;32m     36\u001b[0m         name\u001b[38;5;241m=\u001b[39mname \u001b[38;5;129;01mor\u001b[39;00m f\u001b[38;5;241m.\u001b[39m\u001b[38;5;18m__name__\u001b[39m,\n\u001b[0;32m     37\u001b[0m         extra_msg\u001b[38;5;241m=\u001b[39mextra_msg,\n\u001b[0;32m     38\u001b[0m         pip_names\u001b[38;5;241m=\u001b[39mpip_names,\n\u001b[0;32m     39\u001b[0m     )\n\u001b[1;32m---> 40\u001b[0m     \u001b[38;5;28;01mreturn\u001b[39;00m \u001b[43mf\u001b[49m\u001b[43m(\u001b[49m\u001b[38;5;241;43m*\u001b[39;49m\u001b[43margs\u001b[49m\u001b[43m,\u001b[49m\u001b[43m \u001b[49m\u001b[38;5;241;43m*\u001b[39;49m\u001b[38;5;241;43m*\u001b[39;49m\u001b[43mkwargs\u001b[49m\u001b[43m)\u001b[49m\n",
      "File \u001b[1;32mc:\\ftp\\duck\\env\\Lib\\site-packages\\sql\\plot.py:241\u001b[0m, in \u001b[0;36mboxplot\u001b[1;34m(table, column, orient, with_, conn, ax, schema)\u001b[0m\n\u001b[0;32m    238\u001b[0m set_label \u001b[38;5;241m=\u001b[39m ax\u001b[38;5;241m.\u001b[39mset_ylabel \u001b[38;5;28;01mif\u001b[39;00m vert \u001b[38;5;28;01melse\u001b[39;00m ax\u001b[38;5;241m.\u001b[39mset_xlabel\n\u001b[0;32m    240\u001b[0m \u001b[38;5;28;01mif\u001b[39;00m \u001b[38;5;28misinstance\u001b[39m(column, \u001b[38;5;28mstr\u001b[39m):\n\u001b[1;32m--> 241\u001b[0m     stats \u001b[38;5;241m=\u001b[39m [\u001b[43m_boxplot_stats\u001b[49m\u001b[43m(\u001b[49m\u001b[43mconn\u001b[49m\u001b[43m,\u001b[49m\u001b[43m \u001b[49m\u001b[43m_table\u001b[49m\u001b[43m,\u001b[49m\u001b[43m \u001b[49m\u001b[43mcolumn\u001b[49m\u001b[43m,\u001b[49m\u001b[43m \u001b[49m\u001b[43mwith_\u001b[49m\u001b[38;5;241;43m=\u001b[39;49m\u001b[43mwith_\u001b[49m\u001b[43m)\u001b[49m]\n\u001b[0;32m    242\u001b[0m     ax\u001b[38;5;241m.\u001b[39mbxp(stats, vert\u001b[38;5;241m=\u001b[39mvert)\n\u001b[0;32m    243\u001b[0m     ax\u001b[38;5;241m.\u001b[39mset_title(\u001b[38;5;124mf\u001b[39m\u001b[38;5;124m\"\u001b[39m\u001b[38;5;132;01m{\u001b[39;00mcolumn\u001b[38;5;132;01m!r}\u001b[39;00m\u001b[38;5;124m from \u001b[39m\u001b[38;5;132;01m{\u001b[39;00mtable\u001b[38;5;132;01m!r}\u001b[39;00m\u001b[38;5;124m\"\u001b[39m)\n",
      "File \u001b[1;32mc:\\ftp\\duck\\env\\Lib\\site-packages\\ploomber_core\\exceptions.py:128\u001b[0m, in \u001b[0;36mmodify_exceptions.<locals>.wrapper\u001b[1;34m(*args, **kwargs)\u001b[0m\n\u001b[0;32m    125\u001b[0m \u001b[38;5;129m@wraps\u001b[39m(fn)\n\u001b[0;32m    126\u001b[0m \u001b[38;5;28;01mdef\u001b[39;00m \u001b[38;5;21mwrapper\u001b[39m(\u001b[38;5;241m*\u001b[39margs, \u001b[38;5;241m*\u001b[39m\u001b[38;5;241m*\u001b[39mkwargs):\n\u001b[0;32m    127\u001b[0m     \u001b[38;5;28;01mtry\u001b[39;00m:\n\u001b[1;32m--> 128\u001b[0m         \u001b[38;5;28;01mreturn\u001b[39;00m \u001b[43mfn\u001b[49m\u001b[43m(\u001b[49m\u001b[38;5;241;43m*\u001b[39;49m\u001b[43margs\u001b[49m\u001b[43m,\u001b[49m\u001b[43m \u001b[49m\u001b[38;5;241;43m*\u001b[39;49m\u001b[38;5;241;43m*\u001b[39;49m\u001b[43mkwargs\u001b[49m\u001b[43m)\u001b[49m\n\u001b[0;32m    129\u001b[0m     \u001b[38;5;28;01mexcept\u001b[39;00m (\u001b[38;5;167;01mValueError\u001b[39;00m, \u001b[38;5;167;01mTypeError\u001b[39;00m) \u001b[38;5;28;01mas\u001b[39;00m e:\n\u001b[0;32m    130\u001b[0m         _add_community_link(e)\n",
      "File \u001b[1;32mc:\\ftp\\duck\\env\\Lib\\site-packages\\sql\\plot.py:124\u001b[0m, in \u001b[0;36m_boxplot_stats\u001b[1;34m(conn, table, column, whis, autorange, with_)\u001b[0m\n\u001b[0;32m    121\u001b[0m stats \u001b[38;5;241m=\u001b[39m \u001b[38;5;28mdict\u001b[39m()\n\u001b[0;32m    123\u001b[0m \u001b[38;5;66;03m# arithmetic mean\u001b[39;00m\n\u001b[1;32m--> 124\u001b[0m s_stats \u001b[38;5;241m=\u001b[39m \u001b[43m_summary_stats\u001b[49m\u001b[43m(\u001b[49m\u001b[43mconn\u001b[49m\u001b[43m,\u001b[49m\u001b[43m \u001b[49m\u001b[43mtable\u001b[49m\u001b[43m,\u001b[49m\u001b[43m \u001b[49m\u001b[43mcolumn\u001b[49m\u001b[43m,\u001b[49m\u001b[43m \u001b[49m\u001b[43mwith_\u001b[49m\u001b[38;5;241;43m=\u001b[39;49m\u001b[43mwith_\u001b[49m\u001b[43m)\u001b[49m\n\u001b[0;32m    126\u001b[0m stats[\u001b[38;5;124m\"\u001b[39m\u001b[38;5;124mmean\u001b[39m\u001b[38;5;124m\"\u001b[39m] \u001b[38;5;241m=\u001b[39m s_stats[\u001b[38;5;124m\"\u001b[39m\u001b[38;5;124mmean\u001b[39m\u001b[38;5;124m\"\u001b[39m]\n\u001b[0;32m    127\u001b[0m q1, med, q3 \u001b[38;5;241m=\u001b[39m s_stats[\u001b[38;5;124m\"\u001b[39m\u001b[38;5;124mq1\u001b[39m\u001b[38;5;124m\"\u001b[39m], s_stats[\u001b[38;5;124m\"\u001b[39m\u001b[38;5;124mmed\u001b[39m\u001b[38;5;124m\"\u001b[39m], s_stats[\u001b[38;5;124m\"\u001b[39m\u001b[38;5;124mq3\u001b[39m\u001b[38;5;124m\"\u001b[39m]\n",
      "File \u001b[1;32mc:\\ftp\\duck\\env\\Lib\\site-packages\\sql\\stats.py:11\u001b[0m, in \u001b[0;36m_summary_stats\u001b[1;34m(conn, table, column, with_)\u001b[0m\n\u001b[0;32m      9\u001b[0m \u001b[38;5;28;01mdef\u001b[39;00m \u001b[38;5;21m_summary_stats\u001b[39m(conn, table, column, with_\u001b[38;5;241m=\u001b[39m\u001b[38;5;28;01mNone\u001b[39;00m):\n\u001b[0;32m     10\u001b[0m     \u001b[38;5;28;01mif\u001b[39;00m conn\u001b[38;5;241m.\u001b[39mdialect \u001b[38;5;129;01min\u001b[39;00m {\u001b[38;5;124m\"\u001b[39m\u001b[38;5;124mduckdb\u001b[39m\u001b[38;5;124m\"\u001b[39m, \u001b[38;5;124m\"\u001b[39m\u001b[38;5;124mpostgresql\u001b[39m\u001b[38;5;124m\"\u001b[39m}:\n\u001b[1;32m---> 11\u001b[0m         \u001b[38;5;28;01mreturn\u001b[39;00m \u001b[43m_summary_stats_parallel\u001b[49m\u001b[43m(\u001b[49m\u001b[43mconn\u001b[49m\u001b[43m,\u001b[49m\u001b[43m \u001b[49m\u001b[43mtable\u001b[49m\u001b[43m,\u001b[49m\u001b[43m \u001b[49m\u001b[43mcolumn\u001b[49m\u001b[43m,\u001b[49m\u001b[43m \u001b[49m\u001b[43mwith_\u001b[49m\u001b[38;5;241;43m=\u001b[39;49m\u001b[43mwith_\u001b[49m\u001b[43m)\u001b[49m\n\u001b[0;32m     12\u001b[0m     \u001b[38;5;28;01melif\u001b[39;00m conn\u001b[38;5;241m.\u001b[39mdialect \u001b[38;5;129;01min\u001b[39;00m {\u001b[38;5;124m\"\u001b[39m\u001b[38;5;124mredshift\u001b[39m\u001b[38;5;124m\"\u001b[39m}:\n\u001b[0;32m     13\u001b[0m         \u001b[38;5;28;01mreturn\u001b[39;00m _summary_stats_redshift(conn, table, column, with_\u001b[38;5;241m=\u001b[39mwith_)\n",
      "File \u001b[1;32mc:\\ftp\\duck\\env\\Lib\\site-packages\\sql\\stats.py:114\u001b[0m, in \u001b[0;36m_summary_stats_parallel\u001b[1;34m(conn, table, column, with_)\u001b[0m\n\u001b[0;32m    110\u001b[0m     \u001b[38;5;28;01mraise\u001b[39;00m exceptions\u001b[38;5;241m.\u001b[39mRuntimeError(\n\u001b[0;32m    111\u001b[0m         \u001b[38;5;124mf\u001b[39m\u001b[38;5;124m\"\u001b[39m\u001b[38;5;130;01m\\n\u001b[39;00m\u001b[38;5;124mEnsure that percentile_disc function is available on \u001b[39m\u001b[38;5;132;01m{\u001b[39;00mdriver\u001b[38;5;132;01m}\u001b[39;00m\u001b[38;5;124m.\u001b[39m\u001b[38;5;124m\"\u001b[39m\n\u001b[0;32m    112\u001b[0m     )\n\u001b[0;32m    113\u001b[0m \u001b[38;5;28;01mexcept\u001b[39;00m \u001b[38;5;167;01mException\u001b[39;00m \u001b[38;5;28;01mas\u001b[39;00m e:\n\u001b[1;32m--> 114\u001b[0m     \u001b[38;5;28;01mraise\u001b[39;00m e\n\u001b[0;32m    116\u001b[0m keys \u001b[38;5;241m=\u001b[39m [\u001b[38;5;124m\"\u001b[39m\u001b[38;5;124mq1\u001b[39m\u001b[38;5;124m\"\u001b[39m, \u001b[38;5;124m\"\u001b[39m\u001b[38;5;124mmed\u001b[39m\u001b[38;5;124m\"\u001b[39m, \u001b[38;5;124m\"\u001b[39m\u001b[38;5;124mq3\u001b[39m\u001b[38;5;124m\"\u001b[39m, \u001b[38;5;124m\"\u001b[39m\u001b[38;5;124mmean\u001b[39m\u001b[38;5;124m\"\u001b[39m, \u001b[38;5;124m\"\u001b[39m\u001b[38;5;124mN\u001b[39m\u001b[38;5;124m\"\u001b[39m]\n\u001b[0;32m    117\u001b[0m \u001b[38;5;28;01mreturn\u001b[39;00m {k: \u001b[38;5;28mfloat\u001b[39m(v) \u001b[38;5;28;01mfor\u001b[39;00m k, v \u001b[38;5;129;01min\u001b[39;00m \u001b[38;5;28mzip\u001b[39m(keys, flatten(values))}\n",
      "File \u001b[1;32mc:\\ftp\\duck\\env\\Lib\\site-packages\\sql\\stats.py:107\u001b[0m, in \u001b[0;36m_summary_stats_parallel\u001b[1;34m(conn, table, column, with_)\u001b[0m\n\u001b[0;32m    104\u001b[0m query \u001b[38;5;241m=\u001b[39m template\u001b[38;5;241m.\u001b[39mrender(table\u001b[38;5;241m=\u001b[39mtable, column\u001b[38;5;241m=\u001b[39mcolumn)\n\u001b[0;32m    106\u001b[0m \u001b[38;5;28;01mtry\u001b[39;00m:\n\u001b[1;32m--> 107\u001b[0m     values \u001b[38;5;241m=\u001b[39m \u001b[43mconn\u001b[49m\u001b[38;5;241;43m.\u001b[39;49m\u001b[43mexecute\u001b[49m\u001b[43m(\u001b[49m\u001b[43mquery\u001b[49m\u001b[43m,\u001b[49m\u001b[43m \u001b[49m\u001b[43mwith_\u001b[49m\u001b[43m)\u001b[49m\u001b[38;5;241m.\u001b[39mfetchone()\n\u001b[0;32m    108\u001b[0m \u001b[38;5;28;01mexcept\u001b[39;00m ProgrammingError \u001b[38;5;28;01mas\u001b[39;00m e:\n\u001b[0;32m    109\u001b[0m     \u001b[38;5;28mprint\u001b[39m(e)\n",
      "File \u001b[1;32mc:\\ftp\\duck\\env\\Lib\\site-packages\\sql\\connection\\connection.py:589\u001b[0m, in \u001b[0;36mAbstractConnection.execute\u001b[1;34m(self, query, with_)\u001b[0m\n\u001b[0;32m    585\u001b[0m \u001b[38;5;250m\u001b[39m\u001b[38;5;124;03m\"\"\"\u001b[39;00m\n\u001b[0;32m    586\u001b[0m \u001b[38;5;124;03mExecutes SQL query on a given connection\u001b[39;00m\n\u001b[0;32m    587\u001b[0m \u001b[38;5;124;03m\"\"\"\u001b[39;00m\n\u001b[0;32m    588\u001b[0m query_prepared \u001b[38;5;241m=\u001b[39m \u001b[38;5;28mself\u001b[39m\u001b[38;5;241m.\u001b[39m_prepare_query(query, with_)\n\u001b[1;32m--> 589\u001b[0m \u001b[38;5;28;01mreturn\u001b[39;00m \u001b[38;5;28;43mself\u001b[39;49m\u001b[38;5;241;43m.\u001b[39;49m\u001b[43mraw_execute\u001b[49m\u001b[43m(\u001b[49m\u001b[43mquery_prepared\u001b[49m\u001b[43m)\u001b[49m\n",
      "File \u001b[1;32mc:\\ftp\\duck\\env\\Lib\\site-packages\\sql\\connection\\connection.py:1050\u001b[0m, in \u001b[0;36mDBAPIConnection.raw_execute\u001b[1;34m(self, query, parameters, with_)\u001b[0m\n\u001b[0;32m   1047\u001b[0m     \u001b[38;5;28;01mexcept\u001b[39;00m \u001b[38;5;167;01mException\u001b[39;00m:\n\u001b[0;32m   1048\u001b[0m         \u001b[38;5;28;01mpass\u001b[39;00m\n\u001b[1;32m-> 1050\u001b[0m \u001b[43mcur\u001b[49m\u001b[38;5;241;43m.\u001b[39;49m\u001b[43mexecute\u001b[49m\u001b[43m(\u001b[49m\u001b[43mquery\u001b[49m\u001b[43m)\u001b[49m\n\u001b[0;32m   1052\u001b[0m \u001b[38;5;28;01mif\u001b[39;00m \u001b[38;5;28mself\u001b[39m\u001b[38;5;241m.\u001b[39m_requires_manual_commit:\n\u001b[0;32m   1053\u001b[0m     \u001b[38;5;28mself\u001b[39m\u001b[38;5;241m.\u001b[39m_connection\u001b[38;5;241m.\u001b[39mcommit()\n",
      "\u001b[1;31mCatalogException\u001b[0m: Catalog Error: Table with name com/nergir/one/raw/refs/heads/main/trip-data/yellow_tripdata_2021-01 does not exist!\nDid you mean \"information_schema.referential_constraints\"?\nLINE 6:     FROM \"https://github\".\"com/nergir/one/raw/refs/heads/main/trip-data/yellow_tripdata_2021-01\"...\n                 ^"
     ]
    },
    {
     "data": {
      "image/png": "[encoded data removed]",
      "text/plain": [
       "<Figure size 640x480 with 1 Axes>"
      ]
     },
     "metadata": {},
     "output_type": "display_data"
    }
   ],
   "source": [
    "%sqlplot boxplot --table https://github.com/nergir/one/raw/refs/heads/main/trip-data/yellow_tripdata_2021-01.parquet --column trip_distance"
   ]
  },
  {
   "cell_type": "code",
   "execution_count": 13,
   "metadata": {},
   "outputs": [
    {
     "data": {
      "text/html": [
       "<span style=\"None\">Running query in &#x27;duckdb&#x27;</span>"
      ],
      "text/plain": [
       "Running query in 'duckdb'"
      ]
     },
     "metadata": {},
     "output_type": "display_data"
    },
    {
     "data": {
      "text/html": [
       "<span style=\"None\">Skipping execution...</span>"
      ],
      "text/plain": [
       "Skipping execution..."
      ]
     },
     "metadata": {},
     "output_type": "display_data"
    }
   ],
   "source": [
    "%%sql --save short_trips --no-execute\n",
    "SELECT *\n",
    "FROM 'trip-data/yellow_tripdata_2021-01.parquet'\n",
    "WHERE trip_distance < 6.3"
   ]
  },
  {
   "cell_type": "code",
   "execution_count": 14,
   "metadata": {},
   "outputs": [
    {
     "data": {
      "text/plain": [
       "<Axes: title={'center': \"'trip_distance' from 'short_trips'\"}, xlabel='trip_distance', ylabel='Count'>"
      ]
     },
     "execution_count": 14,
     "metadata": {},
     "output_type": "execute_result"
    },
    {
     "data": {
      "image/png": "[encoded data removed]",
      "text/plain": [
       "<Figure size 640x480 with 1 Axes>"
      ]
     },
     "metadata": {},
     "output_type": "display_data"
    }
   ],
   "source": [
    "%sqlplot histogram --table short_trips --column trip_distance --bins 10 --with short_trips"
   ]
  },
  {
   "cell_type": "code",
   "execution_count": null,
   "metadata": {},
   "outputs": [
    {
     "name": "stdout",
     "output_type": "stream",
     "text": [
      "Original DataFrame:\n",
      "         Date Region Product  Sales\n",
      "0  2024-01-01   East       A    100\n",
      "1  2024-01-01   West       A    150\n",
      "2  2024-01-02   East       B    200\n",
      "3  2024-01-02   West       B    250\n",
      "4  2024-01-03   East       A    300\n",
      "5  2024-01-03   West       B    350\n"
     ]
    }
   ],
   "source": [
    "import pandas as pd\n",
    "\n",
    "# Create a sample DataFrame\n",
    "data = {\n",
    "    \"Date\": [\"2024-01-01\", \"2024-01-01\", \"2024-01-02\", \"2024-01-02\", \"2024-01-03\", \"2024-01-03\"],\n",
    "    \"Region\": [\"East\", \"West\", \"East\", \"West\", \"East\", \"West\"],\n",
    "    \"Product\": [\"A\", \"A\", \"B\", \"B\", \"A\", \"B\"],\n",
    "    \"Sales\": [100, 150, 200, 250, 300, 350],\n",
    "}\n",
    "\n",
    "df = pd.DataFrame(data)\n",
    "print(\"Original DataFrame:\")\n",
    "print(df)\n"
   ]
  },
  {
   "cell_type": "code",
   "execution_count": null,
   "metadata": {},
   "outputs": [
    {
     "name": "stdout",
     "output_type": "stream",
     "text": [
      "\n",
      "Pivoted DataFrame:\n",
      "Region      East  West\n",
      "Date                  \n",
      "2024-01-01   100   150\n",
      "2024-01-02   200   250\n",
      "2024-01-03   300   350\n"
     ]
    }
   ],
   "source": [
    "# Pivot the DataFrame\n",
    "pivot_df = df.pivot(index=\"Date\", columns=\"Region\", values=\"Sales\")\n",
    "print(\"\\nPivoted DataFrame:\")\n",
    "print(pivot_df)\n"
   ]
  },
  {
   "cell_type": "code",
   "execution_count": null,
   "metadata": {},
   "outputs": [
    {
     "name": "stdout",
     "output_type": "stream",
     "text": [
      "\n",
      "Pivot Table with Aggregation:\n",
      "Product         A      B\n",
      "Date                    \n",
      "2024-01-01  250.0    NaN\n",
      "2024-01-02    NaN  450.0\n",
      "2024-01-03  300.0  350.0\n"
     ]
    }
   ],
   "source": [
    "# Pivot table with aggregation\n",
    "pivot_table_df = df.pivot_table(index=\"Date\", columns=\"Product\", values=\"Sales\", aggfunc=\"sum\")\n",
    "print(\"\\nPivot Table with Aggregation:\")\n",
    "print(pivot_table_df)"
   ]
  },
  {
   "cell_type": "code",
   "execution_count": null,
   "metadata": {},
   "outputs": [
    {
     "name": "stdout",
     "output_type": "stream",
     "text": [
      "\n",
      "Pivoted DataFrame using DuckDB:\n",
      "         Date   East   West\n",
      "0  2024-01-01  100.0  150.0\n",
      "1  2024-01-02  200.0  250.0\n",
      "2  2024-01-03  300.0  350.0\n"
     ]
    }
   ],
   "source": [
    "# Convert the DataFrame into DuckDB and run a pivot query\n",
    "pivot_query = \"\"\"\n",
    "SELECT\n",
    "    Date,\n",
    "    SUM(CASE WHEN Region = 'East' THEN Sales ELSE 0 END) AS East,\n",
    "    SUM(CASE WHEN Region = 'West' THEN Sales ELSE 0 END) AS West\n",
    "FROM df\n",
    "GROUP BY Date\n",
    "ORDER BY Date;\n",
    "\"\"\"\n",
    "\n",
    "# Execute the query\n",
    "pivoted_df = duckdb.query(pivot_query).to_df()\n",
    "print(\"\\nPivoted DataFrame using DuckDB:\")\n",
    "print(pivoted_df)\n"
   ]
  },
  {
   "cell_type": "code",
   "execution_count": null,
   "metadata": {},
   "outputs": [
    {
     "name": "stdout",
     "output_type": "stream",
     "text": [
      "\n",
      "Pivoted DataFrame with Multiple Dimensions using DuckDB:\n",
      "         Date  East_A  West_A  East_B  West_B\n",
      "0  2024-01-01   100.0   150.0     0.0     0.0\n",
      "1  2024-01-02     0.0     0.0   200.0   250.0\n",
      "2  2024-01-03   300.0     0.0     0.0   350.0\n"
     ]
    }
   ],
   "source": [
    "pivot_query_multi = \"\"\"\n",
    "SELECT\n",
    "    Date,\n",
    "    SUM(CASE WHEN Region = 'East' AND Product = 'A' THEN Sales ELSE 0 END) AS East_A,\n",
    "    SUM(CASE WHEN Region = 'West' AND Product = 'A' THEN Sales ELSE 0 END) AS West_A,\n",
    "    SUM(CASE WHEN Region = 'East' AND Product = 'B' THEN Sales ELSE 0 END) AS East_B,\n",
    "    SUM(CASE WHEN Region = 'West' AND Product = 'B' THEN Sales ELSE 0 END) AS West_B\n",
    "FROM df\n",
    "GROUP BY Date\n",
    "ORDER BY Date;\n",
    "\"\"\"\n",
    "\n",
    "# Execute the query\n",
    "pivoted_df_multi = duckdb.query(pivot_query_multi).to_df()\n",
    "print(\"\\nPivoted DataFrame with Multiple Dimensions using DuckDB:\")\n",
    "print(pivoted_df_multi)\n"
   ]
  },
  {
   "cell_type": "code",
   "execution_count": null,
   "metadata": {},
   "outputs": [
    {
     "name": "stdout",
     "output_type": "stream",
     "text": [
      "\n",
      "Pivoted DataFrame:\n",
      "         Date  East_A  East_B  West_A  West_B\n",
      "0  2024-01-01   100.0     0.0   150.0     0.0\n",
      "1  2024-01-02     0.0   200.0     0.0   250.0\n",
      "2  2024-01-03   300.0     0.0     0.0   350.0\n"
     ]
    }
   ],
   "source": [
    "import duckdb\n",
    "import pandas as pd\n",
    "\n",
    "# Sample DataFrame\n",
    "data = {\n",
    "    \"Date\": [\"2024-01-01\", \"2024-01-01\", \"2024-01-02\", \"2024-01-02\", \"2024-01-03\", \"2024-01-03\"],\n",
    "    \"Region\": [\"East\", \"West\", \"East\", \"West\", \"East\", \"West\"],\n",
    "    \"Product\": [\"A\", \"A\", \"B\", \"B\", \"A\", \"B\"],\n",
    "    \"Sales\": [100, 150, 200, 250, 300, 350],\n",
    "}\n",
    "\n",
    "df = pd.DataFrame(data)\n",
    "\n",
    "\n",
    "# Function to dynamically generate pivot query\n",
    "def generate_pivot_query(df, index, pivot_columns, value_column):\n",
    "    unique_values = {col: df[col].unique() for col in pivot_columns}\n",
    "\n",
    "    # Generate CASE statements for each combination of pivot columns\n",
    "    cases = []\n",
    "    for region in unique_values[\"Region\"]:\n",
    "        for product in unique_values[\"Product\"]:\n",
    "            col_name = f\"{region}_{product}\"\n",
    "            cases.append(\n",
    "                f\"SUM(CASE WHEN Region = '{region}' AND Product = '{product}' THEN {value_column} ELSE 0 END) AS {col_name}\"\n",
    "            )\n",
    "\n",
    "    # Construct the final query string\n",
    "    query = f\"\"\"\n",
    "    SELECT\n",
    "        {index},\n",
    "        {', '.join(cases)}\n",
    "    FROM df\n",
    "    GROUP BY {index}\n",
    "    ORDER BY {index};\n",
    "    \"\"\"\n",
    "    return query\n",
    "\n",
    "\n",
    "# Generate and execute the query\n",
    "query = generate_pivot_query(df, index=\"Date\", pivot_columns=[\"Region\", \"Product\"], value_column=\"Sales\")\n",
    "pivoted_df = duckdb.query(query).to_df()\n",
    "print(\"\\nPivoted DataFrame:\")\n",
    "print(pivoted_df)\n"
   ]
  },
  {
   "cell_type": "code",
   "execution_count": 29,
   "metadata": {},
   "outputs": [
    {
     "name": "stderr",
     "output_type": "stream",
     "text": [
      "'INSTALL' is not recognized as an internal or external command,\n",
      "operable program or batch file.\n"
     ]
    }
   ],
   "source": [
    "!INSTALL sqlite;"
   ]
  },
  {
   "cell_type": "code",
   "execution_count": 30,
   "metadata": {},
   "outputs": [
    {
     "name": "stderr",
     "output_type": "stream",
     "text": [
      "UsageError: Line magic function `%SELECT` not found.\n"
     ]
    }
   ],
   "source": [
    "%SELECT * FROM sqlite_scan('test.db', 'tbl_name');"
   ]
  },
  {
   "cell_type": "code",
   "execution_count": 31,
   "metadata": {},
   "outputs": [
    {
     "ename": "SyntaxError",
     "evalue": "invalid syntax. Perhaps you forgot a comma? (2773939762.py, line 1)",
     "output_type": "error",
     "traceback": [
      "\u001b[1;36m  Cell \u001b[1;32mIn[31], line 1\u001b[1;36m\u001b[0m\n\u001b[1;33m    ATTACH 'sakila.db' (TYPE SQLITE);\u001b[0m\n\u001b[1;37m                        ^\u001b[0m\n\u001b[1;31mSyntaxError\u001b[0m\u001b[1;31m:\u001b[0m invalid syntax. Perhaps you forgot a comma?\n"
     ]
    }
   ],
   "source": [
    "ATTACH 'sakila.db' (TYPE SQLITE);\n",
    "USE sakila;"
   ]
  }
 ],
 "metadata": {
  "kernelspec": {
   "display_name": "env",
   "language": "python",
   "name": "python3"
  },
  "language_info": {
   "codemirror_mode": {
    "name": "ipython",
    "version": 3
   },
   "file_extension": ".py",
   "mimetype": "text/x-python",
   "name": "python",
   "nbconvert_exporter": "python",
   "pygments_lexer": "ipython3",
   "version": "3.12.7"
  }
 },
 "nbformat": 4,
 "nbformat_minor": 2
}
