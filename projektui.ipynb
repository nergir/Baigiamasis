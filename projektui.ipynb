{
 "cells": [
  {
   "cell_type": "markdown",
   "metadata": {},
   "source": [
    "# Baigiamasis darbas\n",
    "\n",
    "### Darbo tikslas:\n",
    "\n",
    "Projekto tikslas atlikti spėjimus (prognozes, pagal vartotojo įvedamą informaciją). Jūsų analizuojama tema gali būti pasirenkama pagal jūsų poreikius ir norus.\n",
    "\n",
    "Galimas panaudojimo pavyzdys:\n",
    "\n",
    "Vartotojas per programinę sąsają (terminalą) įveda žinomas reikšmes apie nekilnojamo turto objektą (pvz. kambarių skaičius, plotas, adresas, statybos metai, pardavimo kaina), jūsų modelis geba analizuoti šiuos duomenis ir pateikti atsakymą ar verta šį objektą pirkti, parodo kokia prognozuojama šio objekto vertė, pateikia grafikus apie panašius būstus.\n",
    "\n",
    "Tai yra tik pavyzdys, jūsų projekto tema gali būti pasirenkama laisvai. (Galbūt jus domina medicina, finansai ar turite kitų interesų).\n",
    "\n",
    "## Projektas turi atitikti šiuos reikalavimus:\n",
    "\n",
    "- turite būti prikaupę pakankamą kiekį duomenų (kiekvieno projekto atveju tai bus individualu, tačiau reikėtų bent kelių tūkstančių įrašų). Duomenys turėtų būti sukaupti web-scrapping'u, per API, ar iš viešai prieinamų duomenų rinkinių (pvz. Valstybės duomenų agentūra). Juos papildyti galite jau sutvarkytais duomenų rinkiniais (pvz., [kaggle](https://www.kaggle.com/), [UCI Machine Learning Repository](https://archive.ics.uci.edu/) arba kitų)\n",
    "- **turite atlikti duomenų valymą ir paruošimą**: pašalinti trūkstamas reikšmes, dubplikatus ir neteisingus duomenis, normalizuoti ir standartizuoti duomenis, jei reikia.\n",
    "- Atlikti duomenų analizę grafiškai pasitelkiant statistinius skaičiavimus ar kitus duomenų vertinimo kriterijus - min, max ir t.t.\n",
    "- Nustatyti geriausią modelį ir geriausius jo hiperparametrus, siekiant iš gauti kuo aukštesnį tikslumą, kiekvieną žingsnį argumentuojant (galima pateikti komentarus, palyginimus, grafikus).\n",
    "- Vertinant modelį naudokite tikslumą arba kitas, jums žinomas metrikas.\n",
    "- Apmokius modelį, jums reikia sukurti aplikaciją, kuri pagal vartotojo įvestį atliks (vartotojo pasirinkimos vertės) prognozes. \n",
    "- Vartojo įvesti parametrai turi būti saugomi duomenų bazėje. Tai jums leis kaupti duomenis, apie jūsų vartotojus, su idėja, kad toliau tobulinsime modelį.\n",
    "- Parengti išsamų pristatymą - žodžiu ir komentarais, kuriame būtų aptariami visi žingsniai, metodai ir gauti rezultatai.\n",
    "- Visas funkcijas komentuoti ir dokumentuoti. Komentuoti svarbiausius projekte atliekamus žingsnius.\n",
    "- Kintamiejų ir funkcijų paavdinimai turi būti aiškūs ir atitikti projekte skaičiuojamus rezultatus.\n",
    "- Duomenų rinkimas ir valymas, analizė gali būti atlikta notebook. Aplikacijos dalis aprašoma .py failuose. Valymui ir analizei galima naudoti SQL. \n",
    "\n",
    "## Vertinimo kriterijai\n",
    "\n",
    "- Projekto užbaigtumas: Ar visi žingsniai buvo atlikti?\n",
    "- Kodo kokybė: Ar kodas gerai struktūruotas, dokumentuotas ir efektyvus?\n",
    "- Duomenų analizė: Ar duomenų analizė buvo atlikta nuodugniai ir suprantamai?\n",
    "- Modelio kūrimas ir vertinimas: Ar modeliai buvo tinkamai sukurti, išmokyti ir įvertinti?\n",
    "- Rezultatų interpretacija: Ar rezultatai buvo aiškiai pateikti ir pagrįsti?\n",
    "- Pristatymas: Ar projekto ataskaita ir prezentacija yra aiškios?\n"
   ]
  },
  {
   "cell_type": "markdown",
   "metadata": {},
   "source": [
    "# Lint'inimas\n",
    "1. `pip install ruff`\n",
    "2. Įsikelti `pyproject.toml` failą į savo root projekto aplanką\n",
    "3. git commit'inti\n",
    "4. Esant root aplanke paleisti `ruff check` iš terminalo "
   ]
  }
 ],
 "metadata": {
  "kernelspec": {
   "display_name": "Python 3",
   "language": "python",
   "name": "python3"
  },
  "language_info": {
   "codemirror_mode": {
    "name": "ipython",
    "version": 3
   },
   "file_extension": ".py",
   "mimetype": "text/x-python",
   "name": "python",
   "nbconvert_exporter": "python",
   "pygments_lexer": "ipython3",
   "version": "3.12.5"
  }
 },
 "nbformat": 4,
 "nbformat_minor": 2
}
